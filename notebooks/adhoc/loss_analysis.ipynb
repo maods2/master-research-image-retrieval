{
 "cells": [
  {
   "cell_type": "code",
   "execution_count": 3,
   "id": "8c911035",
   "metadata": {},
   "outputs": [],
   "source": [
    "import torch\n",
    "from torch.nn import functional as F"
   ]
  },
  {
   "cell_type": "code",
   "execution_count": 17,
   "id": "af2f59d4",
   "metadata": {},
   "outputs": [
    {
     "name": "stdout",
     "output_type": "stream",
     "text": [
      "tensor([[-3., -2., -1.]])\n",
      "tensor([[-2.4076, -1.4076, -0.4076]])\n",
      "tensor(2.4076)\n"
     ]
    },
    {
     "data": {
      "text/plain": [
       "0.0"
      ]
     },
     "execution_count": 17,
     "metadata": {},
     "output_type": "execute_result"
    }
   ],
   "source": [
    "\n",
    "dists = torch.tensor([\n",
    "    [3.0, 2.0, 1.0],\n",
    "    # [0.0, 1.0, 2.0],\n",
    "\n",
    "])\n",
    "query_labels = torch.tensor([0])\n",
    "negative_dists = -dists\n",
    "print(negative_dists)\n",
    "\n",
    "log_p = (negative_dists).log_softmax(dim=1)\n",
    "print(log_p)\n",
    "loss = F.nll_loss(log_p, query_labels)\n",
    "print(loss)\n",
    "acc = (log_p.argmax(1) == query_labels).float().mean().item()\n",
    "acc"
   ]
  }
 ],
 "metadata": {
  "kernelspec": {
   "display_name": "Python 3",
   "language": "python",
   "name": "python3"
  },
  "language_info": {
   "codemirror_mode": {
    "name": "ipython",
    "version": 3
   },
   "file_extension": ".py",
   "mimetype": "text/x-python",
   "name": "python",
   "nbconvert_exporter": "python",
   "pygments_lexer": "ipython3",
   "version": "3.10.12"
  }
 },
 "nbformat": 4,
 "nbformat_minor": 5
}
