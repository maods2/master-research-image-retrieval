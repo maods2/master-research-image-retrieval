{
 "cells": [
  {
   "cell_type": "code",
   "execution_count": 7,
   "id": "a655cd66",
   "metadata": {},
   "outputs": [],
   "source": [
    "import numpy as np\n",
    "def precision_and_map_at_k(relevance_list):\n",
    "    \"\"\"\n",
    "    Calculates Precision@k for each position and Mean Average Precision (mAP@k)\n",
    "    for a single query.\n",
    "\n",
    "    Parameters:\n",
    "    -----------\n",
    "    relevance_list : list[int]\n",
    "        Binary list indicating relevance of each retrieved item (1=relevant, 0=irrelevant)\n",
    "\n",
    "    Returns:\n",
    "    --------\n",
    "    tuple:\n",
    "        - List of precision@k values (rounded to 2 decimals)\n",
    "        - mAP@k (float, rounded to 2 decimals)\n",
    "    \"\"\"\n",
    "    precisions = []\n",
    "    relevant_count = 0\n",
    "    precisions_at_relevant = []\n",
    "\n",
    "    for k, rel in enumerate(relevance_list, start=1):\n",
    "        if rel == 1:\n",
    "            relevant_count += 1\n",
    "            prec = relevant_count / k\n",
    "            precisions_at_relevant.append(prec)\n",
    "        else:\n",
    "            prec = relevant_count / k\n",
    "\n",
    "        precisions.append(round(prec, 2))\n",
    "\n",
    "    map_at_k = round(np.mean(precisions_at_relevant), 2) if precisions_at_relevant else 0.0\n",
    "\n",
    "    return precisions, map_at_k\n"
   ]
  },
  {
   "cell_type": "code",
   "execution_count": 8,
   "id": "1f97e25f",
   "metadata": {},
   "outputs": [
    {
     "name": "stdout",
     "output_type": "stream",
     "text": [
      "Precision@k: [1.0, 1.0, 0.67, 0.75, 0.6]\n",
      "mAP@k: 0.92\n"
     ]
    }
   ],
   "source": [
    "relevance = [1, 1, 0, 1, 0]\n",
    "precisions, mapk = precision_and_map_at_k(relevance)\n",
    "print(\"Precision@k:\", precisions)\n",
    "print(\"mAP@k:\", mapk)\n"
   ]
  },
  {
   "cell_type": "code",
   "execution_count": 10,
   "id": "560d6d23",
   "metadata": {},
   "outputs": [
    {
     "name": "stdout",
     "output_type": "stream",
     "text": [
      "Precision@k: [1.0, 1.0, 1.0, 0.75, 0.6]\n",
      "mAP@k: 1.0\n"
     ]
    }
   ],
   "source": [
    "relevance = [1, 1, 1, 0, 0]\n",
    "precisions, mapk = precision_and_map_at_k(relevance)\n",
    "print(\"Precision@k:\", precisions)\n",
    "print(\"mAP@k:\", mapk)\n"
   ]
  },
  {
   "cell_type": "code",
   "execution_count": 12,
   "id": "240c2863",
   "metadata": {},
   "outputs": [
    {
     "name": "stdout",
     "output_type": "stream",
     "text": [
      "Precision@k: [0.0, 0.0, 0.33, 0.5, 0.6]\n",
      "mAP@k: 0.48\n"
     ]
    }
   ],
   "source": [
    "relevance = [0, 0, 1, 1, 1]\n",
    "precisions, mapk = precision_and_map_at_k(relevance)\n",
    "print(\"Precision@k:\", precisions)\n",
    "print(\"mAP@k:\", mapk)\n"
   ]
  },
  {
   "cell_type": "code",
   "execution_count": 14,
   "id": "25578ecd",
   "metadata": {},
   "outputs": [
    {
     "name": "stdout",
     "output_type": "stream",
     "text": [
      "Precision@k: [1.0, 0.5, 0.67, 0.75, 0.6]\n",
      "mAP@k: 0.81\n"
     ]
    }
   ],
   "source": [
    "relevance = [1, 0, 1, 1, 0]\n",
    "precisions, mapk = precision_and_map_at_k(relevance)\n",
    "print(\"Precision@k:\", precisions)\n",
    "print(\"mAP@k:\", mapk)\n"
   ]
  },
  {
   "cell_type": "code",
   "execution_count": null,
   "id": "4dd4bb8c",
   "metadata": {},
   "outputs": [],
   "source": []
  }
 ],
 "metadata": {
  "kernelspec": {
   "display_name": "Python 3",
   "language": "python",
   "name": "python3"
  },
  "language_info": {
   "codemirror_mode": {
    "name": "ipython",
    "version": 3
   },
   "file_extension": ".py",
   "mimetype": "text/x-python",
   "name": "python",
   "nbconvert_exporter": "python",
   "pygments_lexer": "ipython3",
   "version": "3.10.12"
  }
 },
 "nbformat": 4,
 "nbformat_minor": 5
}
