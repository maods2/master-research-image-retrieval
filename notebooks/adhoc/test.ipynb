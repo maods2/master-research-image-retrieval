{
 "cells": [
  {
   "cell_type": "code",
   "execution_count": 1,
   "id": "bcfef3ab",
   "metadata": {},
   "outputs": [],
   "source": [
    "import numpy as np"
   ]
  },
  {
   "cell_type": "code",
   "execution_count": null,
   "id": "02b1cb82",
   "metadata": {},
   "outputs": [],
   "source": [
    "data = np.load(\"../artifacts/glomerulo/embeddings_uni/embeddings_2025-04-16_04-16-09.npz\", allow_pickle=True)"
   ]
  },
  {
   "cell_type": "code",
   "execution_count": 3,
   "id": "d936a212",
   "metadata": {},
   "outputs": [
    {
     "name": "stdout",
     "output_type": "stream",
     "text": [
      "db_embeddings\n",
      "db_labels\n",
      "db_path\n",
      "query_embeddings\n",
      "query_labels\n",
      "query_classes\n",
      "query_paths\n",
      "class_mapping\n"
     ]
    }
   ],
   "source": [
    "for i in data.keys():\n",
    "    print(i)"
   ]
  },
  {
   "cell_type": "code",
   "execution_count": 17,
   "id": "30130316",
   "metadata": {},
   "outputs": [],
   "source": [
    "folder_path = \"../artifacts/glomerulo/embeddings_uni_fsl/embeddings_2025-04-20_15-19-51.npz\"\n",
    "data = np.load(folder_path, allow_pickle=True)\n",
    "\n",
    "class_mapping = data['class_mapping'].item()\n",
    "\n",
    "db_embeddings = data['db_embeddings']\n",
    "db_paths = data['db_path']\n",
    "db_labels = np.array([class_mapping[i] for i in data['db_labels']])\n",
    "\n",
    "q_embeddings = data['query_embeddings']\n",
    "q_paths = data['query_paths']\n",
    "q_labels = np.array([f'q_{class_mapping[i]}' for i in data['query_labels']])\n",
    "data_res = dict()\n",
    "\n",
    "\n",
    "\n",
    "all_embeddings = np.vstack([db_embeddings, q_embeddings])\n",
    "all_labels = np.concatenate([db_labels, q_labels])\n",
    "all_paths = np.concatenate([db_paths, q_paths])\n",
    "\n",
    "\n",
    "cm = {}\n",
    "for label in all_labels:\n",
    "    if label not in cm:\n",
    "        cm[label] = label\n",
    "\n",
    "data_res['db_embeddings'] = all_embeddings\n",
    "data_res['db_path'] = all_paths\n",
    "data_res['db_labels'] = all_labels\n",
    "data_res['query_embeddings'] = all_embeddings\n",
    "data_res['query_paths'] = all_paths\n",
    "data_res['query_labels'] = all_labels\n",
    "data_res['class_mapping'] = cm \n"
   ]
  },
  {
   "cell_type": "code",
   "execution_count": null,
   "id": "625475c5",
   "metadata": {},
   "outputs": [
    {
     "data": {
      "text/plain": [
       "{'Crescent': 'Crescent',\n",
       " 'Hypercellularity': 'Hypercellularity',\n",
       " 'Membranous': 'Membranous',\n",
       " 'Normal': 'Normal',\n",
       " 'Podocytopathy': 'Podocytopathy',\n",
       " 'Sclerosis': 'Sclerosis',\n",
       " 'q_Crescent': 'q_Crescent',\n",
       " 'q_Hypercellularity': 'q_Hypercellularity',\n",
       " 'q_Membranous': 'q_Membranous',\n",
       " 'q_Normal': 'q_Normal',\n",
       " 'q_Podocytopathy': 'q_Podocytopathy',\n",
       " 'q_Sclerosis': 'q_Sclerosis'}"
      ]
     },
     "execution_count": 18,
     "metadata": {},
     "output_type": "execute_result"
    }
   ],
   "source": [
    "\n",
    "np.savez('all_data_embeddings_uni_fsl.npz', **data_res)\n"
   ]
  },
  {
   "cell_type": "code",
   "execution_count": null,
   "id": "83253d2d",
   "metadata": {},
   "outputs": [
    {
     "ename": "NameError",
     "evalue": "name 'query_labels' is not defined",
     "output_type": "error",
     "traceback": [
      "\u001b[0;31m---------------------------------------------------------------------------\u001b[0m",
      "\u001b[0;31mNameError\u001b[0m                                 Traceback (most recent call last)",
      "Cell \u001b[0;32mIn[4], line 1\u001b[0m\n\u001b[0;32m----> 1\u001b[0m \u001b[43mquery_labels\u001b[49m\n",
      "\u001b[0;31mNameError\u001b[0m: name 'query_labels' is not defined"
     ]
    }
   ],
   "source": [
    "\n"
   ]
  },
  {
   "cell_type": "code",
   "execution_count": 1,
   "id": "7f4c5331",
   "metadata": {},
   "outputs": [
    {
     "name": "stdout",
     "output_type": "stream",
     "text": [
      "Probabilidades de pertencer à classe de suporte:\n",
      " tensor([2.8024e-36, 0.0000e+00, 0.0000e+00, 0.0000e+00, 0.0000e+00, 0.0000e+00,\n",
      "        1.5411e-38, 0.0000e+00, 1.6838e-38, 0.0000e+00])\n",
      "Predições (1 = pertence, 0 = não pertence):\n",
      " tensor([0, 0, 0, 0, 0, 0, 0, 0, 0, 0])\n"
     ]
    }
   ],
   "source": [
    "import torch\n",
    "import torch.nn.functional as F\n",
    "\n",
    "# Um único embedding de suporte\n",
    "support_embedding = torch.randn(1, 64)  # shape: [1, D]\n",
    "\n",
    "# Queries\n",
    "num_queries = 10\n",
    "query_embeddings = torch.randn(num_queries, 64)  # shape: [Q, D]\n",
    "\n",
    "# Calcula distância euclidiana\n",
    "diff = query_embeddings - support_embedding  # broadcast: [Q, D]\n",
    "dists = torch.sum(diff ** 2, dim=1)  # [Q]\n",
    "\n",
    "# Converte a distância para uma \"probabilidade\" de pertencer à mesma classe\n",
    "# Aqui, menor distância → maior similaridade\n",
    "similarity = -dists  # ou usar exp(-dists)\n",
    "probs = torch.sigmoid(similarity)  # valores entre 0 e 1\n",
    "\n",
    "# Limite de decisão: 0.5 (pode ser ajustado)\n",
    "preds = (probs > 0.5).long()\n",
    "\n",
    "print(\"Probabilidades de pertencer à classe de suporte:\\n\", probs)\n",
    "print(\"Predições (1 = pertence, 0 = não pertence):\\n\", preds)\n"
   ]
  },
  {
   "cell_type": "code",
   "execution_count": 38,
   "id": "fb5c2ac4",
   "metadata": {},
   "outputs": [
    {
     "data": {
      "text/plain": [
       "Dinov2Model(\n",
       "  (embeddings): Dinov2Embeddings(\n",
       "    (patch_embeddings): Dinov2PatchEmbeddings(\n",
       "      (projection): Conv2d(3, 1024, kernel_size=(16, 16), stride=(16, 16))\n",
       "    )\n",
       "    (dropout): Dropout(p=0.0, inplace=False)\n",
       "  )\n",
       "  (encoder): Dinov2Encoder(\n",
       "    (layer): ModuleList(\n",
       "      (0-23): 24 x Dinov2Layer(\n",
       "        (norm1): LayerNorm((1024,), eps=1e-06, elementwise_affine=True)\n",
       "        (attention): Dinov2Attention(\n",
       "          (attention): Dinov2SelfAttention(\n",
       "            (query): Linear(in_features=1024, out_features=1024, bias=True)\n",
       "            (key): Linear(in_features=1024, out_features=1024, bias=True)\n",
       "            (value): Linear(in_features=1024, out_features=1024, bias=True)\n",
       "            (dropout): Dropout(p=0.0, inplace=False)\n",
       "          )\n",
       "          (output): Dinov2SelfOutput(\n",
       "            (dense): Linear(in_features=1024, out_features=1024, bias=True)\n",
       "            (dropout): Dropout(p=0.0, inplace=False)\n",
       "          )\n",
       "        )\n",
       "        (layer_scale1): Dinov2LayerScale()\n",
       "        (drop_path): Identity()\n",
       "        (norm2): LayerNorm((1024,), eps=1e-06, elementwise_affine=True)\n",
       "        (mlp): Dinov2MLP(\n",
       "          (fc1): Linear(in_features=1024, out_features=4096, bias=True)\n",
       "          (activation): GELUActivation()\n",
       "          (fc2): Linear(in_features=4096, out_features=1024, bias=True)\n",
       "        )\n",
       "        (layer_scale2): Dinov2LayerScale()\n",
       "      )\n",
       "    )\n",
       "  )\n",
       "  (layernorm): LayerNorm((1024,), eps=1e-06, elementwise_affine=True)\n",
       ")"
      ]
     },
     "execution_count": 38,
     "metadata": {},
     "output_type": "execute_result"
    }
   ],
   "source": [
    "from PIL import Image\n",
    "import torch\n",
    "from transformers import AutoImageProcessor, AutoModel\n",
    "import albumentations as A\n",
    "from albumentations.pytorch import ToTensorV2\n",
    "import numpy as np\n",
    "from PIL import Image\n",
    "\n",
    "# Load an image\n",
    "image = Image.open('./../../datasets/final/glomerulo/test/Crescent/Crescent 22-17-PAM.jpeg')\n",
    "\n",
    "# Load phikon-v2\n",
    "processor = AutoImageProcessor.from_pretrained(\"owkin/phikon-v2\")\n",
    "model = AutoModel.from_pretrained(\"owkin/phikon-v2\")\n",
    "model.eval()"
   ]
  },
  {
   "cell_type": "code",
   "execution_count": null,
   "id": "7057ba59",
   "metadata": {},
   "outputs": [],
   "source": [
    "\n",
    "\n",
    "# Process the image\n",
    "inputs = processor(image, return_tensors=\"pt\")\n",
    "\n",
    "# Get the features\n",
    "with torch.inference_mode():\n",
    "    outputs = model(**inputs)\n",
    "    features = outputs.last_hidden_state[:, 0, :]  # (1, 1024) shape\n",
    "\n",
    "assert features.shape == (1, 1024)\n"
   ]
  },
  {
   "cell_type": "code",
   "execution_count": 29,
   "id": "46e0416e",
   "metadata": {},
   "outputs": [],
   "source": [
    "transform = A.Compose([\n",
    "    A.SmallestMaxSize(max_size=224),  # Resize shortest edge to 224\n",
    "    # A.CenterCrop(height=224, width=224),  # Center crop\n",
    "    A.Normalize(  # Normalize with processor's mean and std\n",
    "        mean=[0.485, 0.456, 0.406],\n",
    "        std=[0.229, 0.224, 0.225],\n",
    "        # max_pixel_value=255.0  # Equivalent to rescale by 1/255\n",
    "    ),\n",
    "    ToTensorV2(),  # Convert to PyTorch tensor\n",
    "])\n",
    "image_np = np.array(image)\n",
    "processed = transform(image=image_np)\n",
    "inputs2 = {\"pixel_values\": processed[\"image\"].unsqueeze(0)} "
   ]
  },
  {
   "cell_type": "code",
   "execution_count": 31,
   "id": "553ff4bc",
   "metadata": {},
   "outputs": [
    {
     "data": {
      "text/plain": [
       "Compose([\n",
       "  SmallestMaxSize(p=1.0, max_size=224, max_size_hw=None, interpolation=1, mask_interpolation=0),\n",
       "  Normalize(p=1.0, mean=[0.485, 0.456, 0.406], std=[0.229, 0.224, 0.225], max_pixel_value=255.0, normalization='standard'),\n",
       "  ToTensorV2(p=1.0, transpose_mask=False),\n",
       "], p=1.0, bbox_params=None, keypoint_params=None, additional_targets={}, is_check_shapes=True)"
      ]
     },
     "execution_count": 31,
     "metadata": {},
     "output_type": "execute_result"
    }
   ],
   "source": [
    "transform"
   ]
  },
  {
   "cell_type": "code",
   "execution_count": 39,
   "id": "023fee60",
   "metadata": {},
   "outputs": [
    {
     "data": {
      "image/png": "[encoded data removed]",
      "text/plain": [
       "<Figure size 800x800 with 1 Axes>"
      ]
     },
     "metadata": {},
     "output_type": "display_data"
    }
   ],
   "source": [
    "import numpy as np\n",
    "import matplotlib.pyplot as plt\n",
    "\n",
    "# Vetores\n",
    "a = np.array([3, 4])\n",
    "b = np.array([6, 8])  # múltiplo de a, mesma direção\n",
    "a_norm = a / np.linalg.norm(a)\n",
    "b_norm = b / np.linalg.norm(b)\n",
    "\n",
    "# Distâncias e similaridade\n",
    "euclidean_distance = np.linalg.norm(a - b)\n",
    "cosine_similarity = np.dot(a, b) / (np.linalg.norm(a) * np.linalg.norm(b))\n",
    "euclidean_distance_normalized = np.linalg.norm(a_norm - b_norm)\n",
    "cosine_similarity_normalized = np.dot(a_norm, b_norm)\n",
    "# Corrigindo o erro de estilo e mantendo a clareza do gráfico\n",
    "fig, ax = plt.subplots(figsize=(8, 8))\n",
    "\n",
    "# Vetores originais\n",
    "ax.quiver(0, 0, a[0], a[1], angles='xy', scale_units='xy', scale=1,\n",
    "          color='blue', label='a = [3, 4]', width=0.008)\n",
    "ax.quiver(0, 0, b[0], b[1], angles='xy', scale_units='xy', scale=1,\n",
    "          color='red', label='b = [6, 8]', width=0.008)\n",
    "\n",
    "# Vetores normalizados deslocados\n",
    "offset_x, offset_y = 1.0, 1.0\n",
    "ax.quiver(offset_x, offset_y, a_norm[0], a_norm[1], angles='xy', scale_units='xy', scale=1,\n",
    "          color='blue', alpha=0.6, label='a (normalizado)', width=0.008)\n",
    "ax.quiver(offset_x, offset_y, b_norm[0], b_norm[1], angles='xy', scale_units='xy', scale=1,\n",
    "          color='red', alpha=0.6, label='b (normalizado)', width=0.008)\n",
    "\n",
    "# Configurações do gráfico\n",
    "ax.set_xlim(-1, 10)\n",
    "ax.set_ylim(-1, 10)\n",
    "ax.set_aspect('equal')\n",
    "ax.grid(True)\n",
    "ax.set_title('Vetores a, b e suas versões normalizadas (deslocadas)')\n",
    "ax.legend(loc='upper left')\n",
    "\n",
    "plt.show()\n"
   ]
  },
  {
   "cell_type": "code",
   "execution_count": 48,
   "id": "73e1b012",
   "metadata": {},
   "outputs": [
    {
     "data": {
      "text/plain": [
       "array([3, 4])"
      ]
     },
     "execution_count": 48,
     "metadata": {},
     "output_type": "execute_result"
    }
   ],
   "source": [
    "a"
   ]
  },
  {
   "cell_type": "code",
   "execution_count": 49,
   "id": "cee82ca4",
   "metadata": {},
   "outputs": [
    {
     "data": {
      "text/plain": [
       "5.0"
      ]
     },
     "execution_count": 49,
     "metadata": {},
     "output_type": "execute_result"
    }
   ],
   "source": [
    "np.linalg.norm(a)"
   ]
  },
  {
   "cell_type": "code",
   "execution_count": 52,
   "id": "92831391",
   "metadata": {},
   "outputs": [
    {
     "data": {
      "text/plain": [
       "array([0.6, 0.8])"
      ]
     },
     "execution_count": 52,
     "metadata": {},
     "output_type": "execute_result"
    }
   ],
   "source": [
    "a_norm = a / np.linalg.norm(a)\n",
    "a_norm"
   ]
  },
  {
   "cell_type": "code",
   "execution_count": 54,
   "id": "f72a8074",
   "metadata": {},
   "outputs": [
    {
     "data": {
      "text/plain": [
       "1.0"
      ]
     },
     "execution_count": 54,
     "metadata": {},
     "output_type": "execute_result"
    }
   ],
   "source": [
    "np.linalg.norm(a_norm)"
   ]
  }
 ],
 "metadata": {
  "kernelspec": {
   "display_name": "Python 3",
   "language": "python",
   "name": "python3"
  },
  "language_info": {
   "codemirror_mode": {
    "name": "ipython",
    "version": 3
   },
   "file_extension": ".py",
   "mimetype": "text/x-python",
   "name": "python",
   "nbconvert_exporter": "python",
   "pygments_lexer": "ipython3",
   "version": "3.10.12"
  }
 },
 "nbformat": 4,
 "nbformat_minor": 5
}
