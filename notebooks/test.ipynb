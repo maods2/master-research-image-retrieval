{
 "cells": [
  {
   "cell_type": "code",
   "execution_count": 1,
   "id": "bcfef3ab",
   "metadata": {},
   "outputs": [],
   "source": [
    "import numpy as np"
   ]
  },
  {
   "cell_type": "code",
   "execution_count": null,
   "id": "02b1cb82",
   "metadata": {},
   "outputs": [],
   "source": [
    "data = np.load(\"../artifacts/glomerulo/embeddings_uni/embeddings_2025-04-16_04-16-09.npz\", allow_pickle=True)"
   ]
  },
  {
   "cell_type": "code",
   "execution_count": 3,
   "id": "d936a212",
   "metadata": {},
   "outputs": [
    {
     "name": "stdout",
     "output_type": "stream",
     "text": [
      "db_embeddings\n",
      "db_labels\n",
      "db_path\n",
      "query_embeddings\n",
      "query_labels\n",
      "query_classes\n",
      "query_paths\n",
      "class_mapping\n"
     ]
    }
   ],
   "source": [
    "for i in data.keys():\n",
    "    print(i)"
   ]
  },
  {
   "cell_type": "code",
   "execution_count": 17,
   "id": "30130316",
   "metadata": {},
   "outputs": [],
   "source": [
    "folder_path = \"../artifacts/glomerulo/embeddings_uni_fsl/embeddings_2025-04-20_15-19-51.npz\"\n",
    "data = np.load(folder_path, allow_pickle=True)\n",
    "\n",
    "class_mapping = data['class_mapping'].item()\n",
    "\n",
    "db_embeddings = data['db_embeddings']\n",
    "db_paths = data['db_path']\n",
    "db_labels = np.array([class_mapping[i] for i in data['db_labels']])\n",
    "\n",
    "q_embeddings = data['query_embeddings']\n",
    "q_paths = data['query_paths']\n",
    "q_labels = np.array([f'q_{class_mapping[i]}' for i in data['query_labels']])\n",
    "data_res = dict()\n",
    "\n",
    "\n",
    "\n",
    "all_embeddings = np.vstack([db_embeddings, q_embeddings])\n",
    "all_labels = np.concatenate([db_labels, q_labels])\n",
    "all_paths = np.concatenate([db_paths, q_paths])\n",
    "\n",
    "\n",
    "cm = {}\n",
    "for label in all_labels:\n",
    "    if label not in cm:\n",
    "        cm[label] = label\n",
    "\n",
    "data_res['db_embeddings'] = all_embeddings\n",
    "data_res['db_path'] = all_paths\n",
    "data_res['db_labels'] = all_labels\n",
    "data_res['query_embeddings'] = all_embeddings\n",
    "data_res['query_paths'] = all_paths\n",
    "data_res['query_labels'] = all_labels\n",
    "data_res['class_mapping'] = cm \n"
   ]
  },
  {
   "cell_type": "code",
   "execution_count": null,
   "id": "625475c5",
   "metadata": {},
   "outputs": [
    {
     "data": {
      "text/plain": [
       "{'Crescent': 'Crescent',\n",
       " 'Hypercellularity': 'Hypercellularity',\n",
       " 'Membranous': 'Membranous',\n",
       " 'Normal': 'Normal',\n",
       " 'Podocytopathy': 'Podocytopathy',\n",
       " 'Sclerosis': 'Sclerosis',\n",
       " 'q_Crescent': 'q_Crescent',\n",
       " 'q_Hypercellularity': 'q_Hypercellularity',\n",
       " 'q_Membranous': 'q_Membranous',\n",
       " 'q_Normal': 'q_Normal',\n",
       " 'q_Podocytopathy': 'q_Podocytopathy',\n",
       " 'q_Sclerosis': 'q_Sclerosis'}"
      ]
     },
     "execution_count": 18,
     "metadata": {},
     "output_type": "execute_result"
    }
   ],
   "source": [
    "\n",
    "np.savez('all_data_embeddings_uni_fsl.npz', **data_res)\n"
   ]
  },
  {
   "cell_type": "code",
   "execution_count": null,
   "id": "83253d2d",
   "metadata": {},
   "outputs": [
    {
     "ename": "NameError",
     "evalue": "name 'query_labels' is not defined",
     "output_type": "error",
     "traceback": [
      "\u001b[0;31m---------------------------------------------------------------------------\u001b[0m",
      "\u001b[0;31mNameError\u001b[0m                                 Traceback (most recent call last)",
      "Cell \u001b[0;32mIn[4], line 1\u001b[0m\n\u001b[0;32m----> 1\u001b[0m \u001b[43mquery_labels\u001b[49m\n",
      "\u001b[0;31mNameError\u001b[0m: name 'query_labels' is not defined"
     ]
    }
   ],
   "source": [
    "\n"
   ]
  },
  {
   "cell_type": "code",
   "execution_count": 1,
   "id": "7f4c5331",
   "metadata": {},
   "outputs": [
    {
     "name": "stdout",
     "output_type": "stream",
     "text": [
      "Probabilidades de pertencer à classe de suporte:\n",
      " tensor([2.8024e-36, 0.0000e+00, 0.0000e+00, 0.0000e+00, 0.0000e+00, 0.0000e+00,\n",
      "        1.5411e-38, 0.0000e+00, 1.6838e-38, 0.0000e+00])\n",
      "Predições (1 = pertence, 0 = não pertence):\n",
      " tensor([0, 0, 0, 0, 0, 0, 0, 0, 0, 0])\n"
     ]
    }
   ],
   "source": [
    "import torch\n",
    "import torch.nn.functional as F\n",
    "\n",
    "# Um único embedding de suporte\n",
    "support_embedding = torch.randn(1, 64)  # shape: [1, D]\n",
    "\n",
    "# Queries\n",
    "num_queries = 10\n",
    "query_embeddings = torch.randn(num_queries, 64)  # shape: [Q, D]\n",
    "\n",
    "# Calcula distância euclidiana\n",
    "diff = query_embeddings - support_embedding  # broadcast: [Q, D]\n",
    "dists = torch.sum(diff ** 2, dim=1)  # [Q]\n",
    "\n",
    "# Converte a distância para uma \"probabilidade\" de pertencer à mesma classe\n",
    "# Aqui, menor distância → maior similaridade\n",
    "similarity = -dists  # ou usar exp(-dists)\n",
    "probs = torch.sigmoid(similarity)  # valores entre 0 e 1\n",
    "\n",
    "# Limite de decisão: 0.5 (pode ser ajustado)\n",
    "preds = (probs > 0.5).long()\n",
    "\n",
    "print(\"Probabilidades de pertencer à classe de suporte:\\n\", probs)\n",
    "print(\"Predições (1 = pertence, 0 = não pertence):\\n\", preds)\n"
   ]
  }
 ],
 "metadata": {
  "kernelspec": {
   "display_name": "Python 3",
   "language": "python",
   "name": "python3"
  },
  "language_info": {
   "codemirror_mode": {
    "name": "ipython",
    "version": 3
   },
   "file_extension": ".py",
   "mimetype": "text/x-python",
   "name": "python",
   "nbconvert_exporter": "python",
   "pygments_lexer": "ipython3",
   "version": "3.10.12"
  }
 },
 "nbformat": 4,
 "nbformat_minor": 5
}
