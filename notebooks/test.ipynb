{
 "cells": [
  {
   "cell_type": "code",
   "execution_count": 1,
   "id": "bcfef3ab",
   "metadata": {},
   "outputs": [],
   "source": [
    "import numpy as np"
   ]
  },
  {
   "cell_type": "code",
   "execution_count": 4,
   "id": "02b1cb82",
   "metadata": {},
   "outputs": [],
   "source": [
    "data = np.load(\"../artifacts/glomerulo/embeddings_uni/embeddings_2025-04-16_04-16-09.npz\", allow_pickle=True)"
   ]
  },
  {
   "cell_type": "code",
   "execution_count": 9,
   "id": "d936a212",
   "metadata": {},
   "outputs": [
    {
     "name": "stdout",
     "output_type": "stream",
     "text": [
      "db_embeddings\n",
      "db_labels\n",
      "db_path\n",
      "query_embeddings\n",
      "query_labels\n",
      "query_classes\n",
      "query_paths\n",
      "class_mapping\n"
     ]
    }
   ],
   "source": [
    "for i in data.keys():\n",
    "    print(i)"
   ]
  },
  {
   "cell_type": "code",
   "execution_count": 1,
   "id": "7f4c5331",
   "metadata": {},
   "outputs": [
    {
     "name": "stdout",
     "output_type": "stream",
     "text": [
      "Probabilidades de pertencer à classe de suporte:\n",
      " tensor([2.8024e-36, 0.0000e+00, 0.0000e+00, 0.0000e+00, 0.0000e+00, 0.0000e+00,\n",
      "        1.5411e-38, 0.0000e+00, 1.6838e-38, 0.0000e+00])\n",
      "Predições (1 = pertence, 0 = não pertence):\n",
      " tensor([0, 0, 0, 0, 0, 0, 0, 0, 0, 0])\n"
     ]
    }
   ],
   "source": [
    "import torch\n",
    "import torch.nn.functional as F\n",
    "\n",
    "# Um único embedding de suporte\n",
    "support_embedding = torch.randn(1, 64)  # shape: [1, D]\n",
    "\n",
    "# Queries\n",
    "num_queries = 10\n",
    "query_embeddings = torch.randn(num_queries, 64)  # shape: [Q, D]\n",
    "\n",
    "# Calcula distância euclidiana\n",
    "diff = query_embeddings - support_embedding  # broadcast: [Q, D]\n",
    "dists = torch.sum(diff ** 2, dim=1)  # [Q]\n",
    "\n",
    "# Converte a distância para uma \"probabilidade\" de pertencer à mesma classe\n",
    "# Aqui, menor distância → maior similaridade\n",
    "similarity = -dists  # ou usar exp(-dists)\n",
    "probs = torch.sigmoid(similarity)  # valores entre 0 e 1\n",
    "\n",
    "# Limite de decisão: 0.5 (pode ser ajustado)\n",
    "preds = (probs > 0.5).long()\n",
    "\n",
    "print(\"Probabilidades de pertencer à classe de suporte:\\n\", probs)\n",
    "print(\"Predições (1 = pertence, 0 = não pertence):\\n\", preds)\n"
   ]
  }
 ],
 "metadata": {
  "kernelspec": {
   "display_name": "Python 3",
   "language": "python",
   "name": "python3"
  },
  "language_info": {
   "codemirror_mode": {
    "name": "ipython",
    "version": 3
   },
   "file_extension": ".py",
   "mimetype": "text/x-python",
   "name": "python",
   "nbconvert_exporter": "python",
   "pygments_lexer": "ipython3",
   "version": "3.10.12"
  }
 },
 "nbformat": 4,
 "nbformat_minor": 5
}
