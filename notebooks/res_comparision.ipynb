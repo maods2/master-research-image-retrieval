{
 "cells": [
  {
   "cell_type": "code",
   "execution_count": null,
   "id": "58aa2045",
   "metadata": {
    "vscode": {
     "languageId": "plaintext"
    }
   },
   "outputs": [],
   "source": [
    "import matplotlib.pyplot as plt\n",
    "import matplotlib.image as mpimg\n",
    "\n",
    "def plot_images_side_by_side(img_path1, img_path2, global_title, img1_title, img2_title):\n",
    "    img1 = mpimg.imread(img_path1)\n",
    "    img2 = mpimg.imread(img_path2)\n",
    "    fig, axes = plt.subplots(1, 2, figsize=(10, 5))\n",
    "    fig.suptitle(global_title)\n",
    "    axes[0].imshow(img1)\n",
    "    axes[0].set_title(img1_title)\n",
    "    axes[0].axis('off')\n",
    "    axes[1].imshow(img2)\n",
    "    axes[1].set_title(img2_title)\n",
    "    axes[1].axis('off')\n",
    "    plt.show()"
   ]
  }
 ],
 "metadata": {
  "language_info": {
   "name": "python"
  }
 },
 "nbformat": 4,
 "nbformat_minor": 5
}
